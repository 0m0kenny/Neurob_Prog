{
  "nbformat": 4,
  "nbformat_minor": 0,
  "metadata": {
    "colab": {
      "provenance": [],
      "authorship_tag": "ABX9TyNZlYF7wEvHRu2RLoCEIu1B",
      "include_colab_link": true
    },
    "kernelspec": {
      "name": "python3",
      "display_name": "Python 3"
    },
    "language_info": {
      "name": "python"
    }
  },
  "cells": [
    {
      "cell_type": "markdown",
      "metadata": {
        "id": "view-in-github",
        "colab_type": "text"
      },
      "source": [
        "<a href=\"https://colab.research.google.com/github/0m0kenny/Neurob_Prog/blob/main/Neurob_Prog.ipynb\" target=\"_parent\"><img src=\"https://colab.research.google.com/assets/colab-badge.svg\" alt=\"Open In Colab\"/></a>"
      ]
    },
    {
      "cell_type": "markdown",
      "source": [
        "# Prediciting the Prognosis of Neuroblastoma Patients via RNA sequencing Data"
      ],
      "metadata": {
        "id": "ZNZq7xt2xq3c"
      }
    },
    {
      "cell_type": "markdown",
      "source": [
        "## Abstract\n",
        "                \n",
        "RNA-Seq reveals an unprecedented complexity of the neuroblastoma transcriptome and is suitable for clinical endpoint prediction [ microarray ]\n",
        "\n",
        "### Experiment Description  \n",
        "\n",
        "We generated gene expression profiles from 498 primary neuroblastomas using RNA-Seq and microarrays. We sought to systematically evaluate the capability of RNA deep-sequencing (RNA-Seq)-based classification for clinical endpoint prediction in comparison to microarray-based ones. The neuroblastoma cohort was randomly divided into training and validation sets (**Please note:** <em>in the following we refer to this validation set as test set</em>), and 360 predictive models on six clinical endpoints were generated and evaluated. While prediction performances did not differ considerably between the two technical platforms, the RNA-Seq data processing pipelines, or feature levels (i.e., gene, transcript, and exon junction levels), RNA-Seq models based on the AceView database performed best on most endpoints. Collectively, our study reveals an unprecedented complexity of the neuroblastoma transcriptome, and provides guidelines for the development of gene expression-based predictive classifiers using high-throughput technologies.  Sample clinical characteristics definitions:  \n",
        "\n",
        "* sex:\n",
        "    <ul>\n",
        "    <li>M = male</li>\n",
        "    <li>F = female</li>\n",
        "    </ul>\n",
        "    \n",
        "* age at diagnosis: The age in days at diagnosis\n",
        "    <ul>\n",
        "    <li>integer</li>\n",
        "    </ul>\n",
        "\n",
        "* high risk: Clinically considered as high-risk neuroblastoma\n",
        "    <ul>\n",
        "    <li>yes = 1</li>\n",
        "    <li>no = 0</li>\n",
        "    </ul>\n",
        "\n",
        "\n",
        "* INSS stage: Disease stage according to International Neuroblastoma Staging System ([INSS](https://www.cancer.org/cancer/neuroblastoma/detection-diagnosis-staging/staging.html))\n",
        "    <ul>\n",
        "    <li>1</li>\n",
        "    <li>2</li>\n",
        "    <li>3</li>\n",
        "    <li>4</li>\n",
        "    <li>4S</li>\n",
        "    </ul>\n",
        "\n",
        "\n",
        "* progression: Occurrence of a tumor progression event\n",
        "    <ul>\n",
        "    <li>yes = 1</li>\n",
        "    <li>no = 0</li>\n",
        "    </ul>\n",
        "\n",
        "\n",
        "\n",
        "* death from disease: Occurrence of death from the disease (yes=1; no=0)\n",
        "    <ul>\n",
        "    <li>yes = 1</li>\n",
        "    <li>no = 0</li>\n",
        "    </ul>\n",
        "\n",
        "\n",
        "\n",
        "\n",
        "\n",
        "Gene expression of 498 neuroblastoma samples was quantified by RNA sequencing as well as by microarray analyses in order to understand the neuroblastoma transcriptome and predict clinical endpoints.\n",
        "\n",
        "\n",
        "## Task\n",
        "\n",
        "The task is to predict the missing values in the validation set (from here on called test set) using the RNAseq Data."
      ],
      "metadata": {
        "id": "u3MfT3wbxOnc"
      }
    },
    {
      "cell_type": "code",
      "execution_count": null,
      "metadata": {
        "id": "zcZTXZ5qxEVz"
      },
      "outputs": [],
      "source": []
    }
  ]
}